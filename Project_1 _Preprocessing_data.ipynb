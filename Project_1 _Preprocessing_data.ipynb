{
 "cells": [
  {
   "cell_type": "markdown",
   "metadata": {},
   "source": [
    "## Analyzing borrowers’ risk of defaulting\n",
    "\n",
    "The goal of the project is to prepare a report for a bank’s loan division. You’ll need to find out if a customer’s marital status and number of children has an impact on whether they will default on a loan. The bank already has some data on customers’ credit worthiness.\n",
    "\n",
    "Report will be considered when building a **credit scoring** of a potential customer. A ** credit scoring ** is used to evaluate the ability of a potential borrower to repay their loan."
   ]
  },
  {
   "cell_type": "markdown",
   "metadata": {},
   "source": [
    "## Table of contents:\n",
    "- [**STEP 1. Open the data file and have a look at the general information.**](#first-step)\n",
    "- [**STEP 2. Data prepricessing**](#second-step)\n",
    "    - [Processing missing values](#processing-missing-values)\n",
    "    - [Data type replacement](#data-type-replacement)\n",
    "    - [Processing duplicates](#processing-duplicates)\n",
    "    - [Categorizing Data](#categorizing-data)\n",
    "- [**STEP 3. Answer these questions**](#third-step)\n",
    "    - [Is there a relation between having kids and repaying a loan on time?](#relation_kids_repaying_loan)\n",
    "    - [Is there a relation between marital status and repaying a loan on time?](#relation_marital_status_repaying_loan)\n",
    "    - [Is there a relation between income level and repaying a loan on time?](#relation_income_level_repaying_loan)\n",
    "    - [How do different loan purposes affect on-time loan repayment?](#purposes_loan_repayment)\n",
    "- [**STEP 4. General conclusion**](#fourth-step)"
   ]
  },
  {
   "cell_type": "markdown",
   "metadata": {},
   "source": [
    "### Step 1. Open the data file and have a look at the general information. <a class=\"anchor\" id=\"first-step\"></a>"
   ]
  },
  {
   "cell_type": "code",
   "execution_count": 3,
   "metadata": {},
   "outputs": [
    {
     "name": "stdout",
     "output_type": "stream",
     "text": [
      "<class 'pandas.core.frame.DataFrame'>\n",
      "RangeIndex: 21525 entries, 0 to 21524\n",
      "Data columns (total 12 columns):\n",
      " #   Column            Non-Null Count  Dtype  \n",
      "---  ------            --------------  -----  \n",
      " 0   children          21525 non-null  int64  \n",
      " 1   days_employed     19351 non-null  float64\n",
      " 2   dob_years         21525 non-null  int64  \n",
      " 3   education         21525 non-null  object \n",
      " 4   education_id      21525 non-null  int64  \n",
      " 5   family_status     21525 non-null  object \n",
      " 6   family_status_id  21525 non-null  int64  \n",
      " 7   gender            21525 non-null  object \n",
      " 8   income_type       21525 non-null  object \n",
      " 9   debt              21525 non-null  int64  \n",
      " 10  total_income      19351 non-null  float64\n",
      " 11  purpose           21525 non-null  object \n",
      "dtypes: float64(2), int64(5), object(5)\n",
      "memory usage: 2.0+ MB\n"
     ]
    }
   ],
   "source": [
    "import pandas as pd\n",
    "from nltk.stem import SnowballStemmer\n",
    "import numpy as np\n",
    "import pandas as pd\n",
    "import matplotlib.pyplot as plt\n",
    "\n",
    "data_credit_scoring = pd.read_csv('credit_scoring_eng.csv')\n",
    "data_credit_scoring.info()\n"
   ]
  },
  {
   "cell_type": "markdown",
   "metadata": {},
   "source": [
    "### Conclusion"
   ]
  },
  {
   "cell_type": "markdown",
   "metadata": {},
   "source": [
    "The table consists of 12 columns and  21525 lines. All cells filled except the part of cells in columns 'days_employed' and ' total_income'. According to the information in the table not all people for the moment of loan have working experience and income. Conclusion can be made that 2174 borrowers don't have work and other source of income.\n",
    "Columns 'days_employed' and ' total_income' have format float and others int or object."
   ]
  },
  {
   "cell_type": "markdown",
   "metadata": {},
   "source": [
    "### Step 2. Data preprocessing <a class=\"anchor\" id=\"second-step\"></a>"
   ]
  },
  {
   "cell_type": "markdown",
   "metadata": {},
   "source": [
    "### Processing missing values <a class=\"anchor\" id=\"processing-missing-values\"></a>"
   ]
  },
  {
   "cell_type": "code",
   "execution_count": 6,
   "metadata": {
    "scrolled": true
   },
   "outputs": [
    {
     "data": {
      "image/png": "[encoded data removed]",
      "text/plain": [
       "<Figure size 432x288 with 1 Axes>"
      ]
     },
     "metadata": {
      "needs_background": "light"
     },
     "output_type": "display_data"
    }
   ],
   "source": [
    "data_credit_scoring['days_employed'].hist(bins=100)\n",
    "plt.xlabel(\"Days\")\n",
    "plt.ylabel(\"Frequency\")\n",
    "plt.title(\"Frequency of days employed\")\n",
    "plt.show()"
   ]
  },
  {
   "cell_type": "code",
   "execution_count": 7,
   "metadata": {},
   "outputs": [],
   "source": [
    "#data_credit_scoring['days_employed'].hist(bins=100)\n",
    "data_credit_scoring.loc[data_credit_scoring['days_employed'] > 0, 'days_employed'] = np.nan\n",
    "data_credit_scoring['days_employed'] = data_credit_scoring['days_employed'].abs()\n",
    "data_credit_scoring['days_employed'].fillna(data_credit_scoring['days_employed'].mean(), inplace = True)\n"
   ]
  },
  {
   "cell_type": "code",
   "execution_count": 9,
   "metadata": {
    "scrolled": true
   },
   "outputs": [
    {
     "data": {
      "image/png": "[encoded data removed]",
      "text/plain": [
       "<Figure size 432x288 with 1 Axes>"
      ]
     },
     "metadata": {
      "needs_background": "light"
     },
     "output_type": "display_data"
    }
   ],
   "source": [
    "data_credit_scoring['total_income'].hist(bins=100)\n",
    "data_credit_scoring['total_income'].fillna(data_credit_scoring.total_income.median(), inplace = True)\n",
    "plt.xlabel(\"Income\")\n",
    "plt.ylabel(\"Frequency\")\n",
    "plt.title(\"Frequency of total income\")\n",
    "plt.show()"
   ]
  },
  {
   "cell_type": "markdown",
   "metadata": {},
   "source": [
    "### Conclusion"
   ]
  },
  {
   "cell_type": "markdown",
   "metadata": {},
   "source": [
    "We made all values absolute to get rid of negative values. Most likely, when filling out the data, the minus was set incorrectly or a dash was implied.\n",
    "Among the data on days_employed and total_income, there were too different values, which are most likely unrealistic (too large for this parameter).\n",
    "We replaced days_employed by mean values and total_income with median values."
   ]
  },
  {
   "cell_type": "markdown",
   "metadata": {},
   "source": [
    "### Data type replacement <a class=\"anchor\" id=\"data-type-replacement\"></a>"
   ]
  },
  {
   "cell_type": "code",
   "execution_count": 10,
   "metadata": {},
   "outputs": [
    {
     "name": "stdout",
     "output_type": "stream",
     "text": [
      "<class 'pandas.core.frame.DataFrame'>\n",
      "RangeIndex: 21525 entries, 0 to 21524\n",
      "Data columns (total 12 columns):\n",
      " #   Column            Non-Null Count  Dtype \n",
      "---  ------            --------------  ----- \n",
      " 0   children          21525 non-null  int64 \n",
      " 1   days_employed     21525 non-null  int64 \n",
      " 2   dob_years         21525 non-null  int64 \n",
      " 3   education         21525 non-null  object\n",
      " 4   education_id      21525 non-null  int64 \n",
      " 5   family_status     21525 non-null  object\n",
      " 6   family_status_id  21525 non-null  int64 \n",
      " 7   gender            21525 non-null  object\n",
      " 8   income_type       21525 non-null  object\n",
      " 9   debt              21525 non-null  int64 \n",
      " 10  total_income      21525 non-null  int64 \n",
      " 11  purpose           21525 non-null  object\n",
      "dtypes: int64(7), object(5)\n",
      "memory usage: 2.0+ MB\n"
     ]
    }
   ],
   "source": [
    "#converting values to int\n",
    "data_credit_scoring['days_employed'] = data_credit_scoring['days_employed'].astype(int)\n",
    "data_credit_scoring['total_income'] = data_credit_scoring['total_income'].astype(int)\n",
    "\n",
    "\n",
    "data_credit_scoring.info()"
   ]
  },
  {
   "cell_type": "markdown",
   "metadata": {},
   "source": [
    "### Conclusion"
   ]
  },
  {
   "cell_type": "markdown",
   "metadata": {},
   "source": [
    "All datas in the table have format int64 or object "
   ]
  },
  {
   "cell_type": "markdown",
   "metadata": {},
   "source": [
    "### Processing duplicates <a class=\"anchor\" id=\"processing-duplicates\"></a>"
   ]
  },
  {
   "cell_type": "code",
   "execution_count": 11,
   "metadata": {},
   "outputs": [
    {
     "name": "stdout",
     "output_type": "stream",
     "text": [
      "[\"bachelor's degree\" 'secondary education' 'Secondary Education'\n",
      " 'SECONDARY EDUCATION' \"BACHELOR'S DEGREE\" 'some college'\n",
      " 'primary education' \"Bachelor's Degree\" 'SOME COLLEGE' 'Some College'\n",
      " 'PRIMARY EDUCATION' 'Primary Education' 'Graduate Degree'\n",
      " 'GRADUATE DEGREE' 'graduate degree']\n",
      "['married' 'civil partnership' 'widow / widower' 'divorced' 'unmarried']\n",
      "deleted 71 duplicates\n"
     ]
    }
   ],
   "source": [
    "#looking for unique values in given columns\n",
    "print(data_credit_scoring['education'].unique())\n",
    "print(data_credit_scoring['family_status'].unique())\n",
    "\n",
    "#assigning a uniform value in the education column depending on education_id\n",
    "education_id_0 = 'bachelor\\'s degree'\n",
    "education_id_1 = 'secondary education'\n",
    "education_id_2 = 'college'\n",
    "education_id_3 = 'primary education'\n",
    "education_id_4 = 'graduate degree'\n",
    "\n",
    "#assigning a uniform value in the family_status column depending on family_status_id\n",
    "family_status_id_0 = 'married'\n",
    "family_status_id_1 = 'civil partnership'\n",
    "family_status_id_2 = 'widow / widower'\n",
    "family_status_id_3 = 'divorced'\n",
    "family_status_id_4 = 'unmarried'\n",
    "\n",
    "\n",
    "#assuming -1 children is 1 and 20 is 2 and changing ones\n",
    "data_credit_scoring.loc[data_credit_scoring['children'] == -1, 'children'] = 1\n",
    "data_credit_scoring.loc[data_credit_scoring['children'] == 20, 'children'] = 2\n",
    "\n",
    "#setting unified education name based on education id\n",
    "data_credit_scoring.loc[data_credit_scoring['education_id'] == 0, 'education'] = education_id_0\n",
    "data_credit_scoring.loc[data_credit_scoring['education_id'] == 1, 'education'] = education_id_1\n",
    "data_credit_scoring.loc[data_credit_scoring['education_id'] == 2, 'education'] = education_id_2\n",
    "data_credit_scoring.loc[data_credit_scoring['education_id'] == 3, 'education'] = education_id_3\n",
    "data_credit_scoring.loc[data_credit_scoring['education_id'] == 4, 'education'] = education_id_4\n",
    "\n",
    "#setting unified family status name based on family status id\n",
    "data_credit_scoring.loc[data_credit_scoring['family_status_id'] == 0, 'family_status'] = family_status_id_0\n",
    "data_credit_scoring.loc[data_credit_scoring['family_status_id'] == 1, 'family_status'] = family_status_id_1\n",
    "data_credit_scoring.loc[data_credit_scoring['family_status_id'] == 2, 'family_status'] = family_status_id_2\n",
    "data_credit_scoring.loc[data_credit_scoring['family_status_id'] == 3, 'family_status'] = family_status_id_3\n",
    "data_credit_scoring.loc[data_credit_scoring['family_status_id'] == 4, 'family_status'] = family_status_id_4\n",
    "\n",
    "#counting rows with duplicates\n",
    "with_duplicates = len(data_credit_scoring)\n",
    "\n",
    "#dropping duplicates\n",
    "data_credit_scoring = data_credit_scoring.drop_duplicates()\n",
    "\n",
    "duplicates = with_duplicates - len(data_credit_scoring)\n",
    "\n",
    "print('deleted '+str(duplicates) + ' duplicates')\n",
    "\n"
   ]
  },
  {
   "cell_type": "markdown",
   "metadata": {},
   "source": [
    "### Conclusion"
   ]
  },
  {
   "cell_type": "markdown",
   "metadata": {},
   "source": [
    "We generalized 5 options of education and 5 family statuses according to the education_id and family_status_id.\n",
    "We brought into accordance values in the columns education and family status.\n",
    "Then we removed the duplicated rows having used function drop_duplicates().\n",
    "The amount of the duplicated rows was 71.\n",
    "We supposed that values in column 'children' -1 and 20 erroneous and changed them to 1 and 2 accordingly.\n",
    "There was a lot of duplicates because of lowercase and uppercase, so we convert everything to lowercase"
   ]
  },
  {
   "cell_type": "markdown",
   "metadata": {},
   "source": [
    "### Categorizing Data <a class=\"anchor\" id=\"categorizing-data\"></a>"
   ]
  },
  {
   "cell_type": "code",
   "execution_count": 13,
   "metadata": {},
   "outputs": [
    {
     "name": "stdout",
     "output_type": "stream",
     "text": [
      "family_status      purpose_simplified\n",
      "civil partnership  wedding               2324\n",
      "                   real estate            989\n",
      "                   car                    434\n",
      "                   education              404\n",
      "divorced           real estate            676\n",
      "                   car                    281\n",
      "                   education              238\n",
      "married            real estate           7008\n",
      "                   car                   2736\n",
      "                   education             2595\n",
      "unmarried          real estate           1596\n",
      "                   car                    637\n",
      "                   education              577\n",
      "widow / widower    real estate            542\n",
      "                   car                    218\n",
      "                   education              199\n",
      "Name: purpose_simplified, dtype: int64\n",
      "low        15535\n",
      "average     5747\n",
      "high         172\n",
      "Name: income_level, dtype: int64\n",
      "education            income_level\n",
      "bachelor's degree    low              3126\n",
      "                     average          2009\n",
      "                     high              115\n",
      "college              low               492\n",
      "                     average           245\n",
      "                     high                7\n",
      "graduate degree      average             3\n",
      "                     low                 3\n",
      "primary education    low               231\n",
      "                     average            51\n",
      "secondary education  low             11683\n",
      "                     average          3439\n",
      "                     high               50\n",
      "Name: income_level, dtype: int64\n",
      "income_level  purpose_simplified\n",
      "average       real estate           2932\n",
      "              car                   1174\n",
      "              education             1022\n",
      "              wedding                619\n",
      "high          real estate             99\n",
      "              car                     29\n",
      "              education               27\n",
      "              wedding                 17\n",
      "low           real estate           7780\n",
      "              car                   3103\n",
      "              education             2964\n",
      "              wedding               1688\n",
      "Name: purpose_simplified, dtype: int64\n",
      "age_group    debt\n",
      "adult        0       10043\n",
      "             1         949\n",
      "senior       0        6263\n",
      "             1         381\n",
      "young adult  0        3407\n",
      "             1         411\n",
      "Name: debt, dtype: int64\n"
     ]
    }
   ],
   "source": [
    "from nltk.stem import SnowballStemmer\n",
    "english_stemmer = SnowballStemmer('english')\n",
    "\n",
    "#PURPOSE GROUPS:\n",
    "# REAL ESTATE (house, estate, property)\n",
    "# CAR (car)\n",
    "# EDUCATION (education, university)\n",
    "# WEDDING (wedding)\n",
    "#creating stems list for each purpose group\n",
    "real_estate_stems = ['estate', 'house', 'property']\n",
    "real_estate_stems = [english_stemmer.stem(word) for word in real_estate_stems]\n",
    "car_stems = ['car']\n",
    "car_stems = [english_stemmer.stem(word) for word in car_stems]\n",
    "education_stems = ['education', 'university']\n",
    "education_stems = [english_stemmer.stem(word) for word in education_stems]\n",
    "wedding_stems = ['wedding']\n",
    "wedding_stems = [english_stemmer.stem(word) for word in wedding_stems]\n",
    "\n",
    "#creating two new columns to generalize purposes and total incomes\n",
    "data_credit_scoring['purpose_simplified'] = ' '\n",
    "data_credit_scoring['income_level'] = ' '\n",
    "\n",
    "#setting new columns values\n",
    "for index, row in data_credit_scoring.iterrows():\n",
    "    income = row['total_income']\n",
    "    if income < 30000:\n",
    "        data_credit_scoring.loc[index, 'income_level'] = 'low'\n",
    "    elif income <= 85000:\n",
    "        data_credit_scoring.loc[index, 'income_level'] = 'average'\n",
    "    else:\n",
    "        data_credit_scoring.loc[index, 'income_level'] = 'high'\n",
    "\n",
    "    for word in row['purpose'].split(' '):\n",
    "        word_stem = english_stemmer.stem(word)\n",
    "        if word_stem in real_estate_stems:\n",
    "            data_credit_scoring.loc[index, 'purpose_simplified'] = 'real estate'\n",
    "            break\n",
    "        if word_stem in car_stems:\n",
    "            data_credit_scoring.loc[index, 'purpose_simplified'] = 'car'\n",
    "            break\n",
    "        if word_stem in education_stems:\n",
    "            data_credit_scoring.loc[index, 'purpose_simplified'] = 'education'\n",
    "            break\n",
    "        if word_stem in wedding_stems:\n",
    "            data_credit_scoring.loc[index, 'purpose_simplified'] = 'wedding'\n",
    "            break\n",
    "\n",
    "\n",
    "#function to assign age group\n",
    "def age_group(age):\n",
    "    if age <= 30:\n",
    "        return 'young adult'\n",
    "    elif age <= 50:\n",
    "        return 'adult'\n",
    "    else:\n",
    "        return 'senior'\n",
    "\n",
    "#setting age groups by applying function\n",
    "data_credit_scoring['age_group'] = data_credit_scoring['dob_years'].apply(age_group)\n",
    "\n",
    "print(data_credit_scoring.groupby('family_status')['purpose_simplified'].value_counts().head(50))\n",
    "print(data_credit_scoring['income_level'].value_counts())\n",
    "print(data_credit_scoring.groupby('education')['income_level'].value_counts())\n",
    "print(data_credit_scoring.groupby('income_level')['purpose_simplified'].value_counts())\n",
    "print(data_credit_scoring.groupby('age_group')['debt'].value_counts())\n"
   ]
  },
  {
   "cell_type": "markdown",
   "metadata": {},
   "source": [
    "### Conclusion"
   ]
  },
  {
   "cell_type": "markdown",
   "metadata": {},
   "source": [
    "There were many various purposes of loan in the table, which we accumulated into 4 basic groups by using stemming.\n",
    "Also we sorted incomes by levels.\n",
    "New columns income_level and purpose_simplified were created to more clearly reflect information about income and purposes of the loan.\n",
    "Using function apply() people were distributed to age groups"
   ]
  },
  {
   "cell_type": "markdown",
   "metadata": {},
   "source": [
    "### Step 3. Answer these questions <a class=\"anchor\" id=\"third-step\"></a>"
   ]
  },
  {
   "cell_type": "markdown",
   "metadata": {},
   "source": [
    "- Is there a relation between having kids and repaying a loan on time? <a class=\"anchor\" id=\"relation_kids_repaying_loan\"></a>"
   ]
  },
  {
   "cell_type": "code",
   "execution_count": 14,
   "metadata": {},
   "outputs": [
    {
     "name": "stdout",
     "output_type": "stream",
     "text": [
      "0    14091\n",
      "1     4855\n",
      "2     2128\n",
      "3      330\n",
      "4       41\n",
      "5        9\n",
      "Name: children, dtype: int64\n",
      "0 kids debt ratio: 0.075\n",
      "1 kids debt ratio: 0.092\n",
      "2 kids debt ratio: 0.095\n",
      "3+ kids debt ratio: 0.082\n"
     ]
    }
   ],
   "source": [
    "print(data_credit_scoring['children'].value_counts())\n",
    "\n",
    "#finding debt ratio for 0,1,2 kids\n",
    "for kids in range(3):\n",
    "    N_kids_with_debt = len(data_credit_scoring[(data_credit_scoring['children'] == kids) & (data_credit_scoring['debt'] == 1)])\n",
    "    N_kids_all = len(data_credit_scoring[data_credit_scoring['children'] == kids])\n",
    "    N_kids_debt_ratio = N_kids_with_debt / N_kids_all\n",
    "    print('{} kids debt ratio: {:.3f}'.format(kids, N_kids_debt_ratio))\n",
    "\n",
    "#joining up 3 and more kids to find debt ratio\n",
    "many_kids_with_debt = 0\n",
    "many_kids_all = 0\n",
    "many_kids_debt_ratio = 0\n",
    "\n",
    "\n",
    "for kids in range(3, 6):\n",
    "    many_kids_with_debt += len(data_credit_scoring[(data_credit_scoring['children'] == kids) & (data_credit_scoring['debt'] == 1)])\n",
    "    many_kids_all += len(data_credit_scoring[data_credit_scoring['children'] == kids])\n",
    "\n",
    "many_kids_debt_ratio = many_kids_with_debt / many_kids_all\n",
    "\n",
    "print('3+ kids debt ratio: {:.3f}'.format(many_kids_debt_ratio))\n"
   ]
  },
  {
   "cell_type": "markdown",
   "metadata": {},
   "source": [
    "### Conclusion"
   ]
  },
  {
   "cell_type": "markdown",
   "metadata": {},
   "source": [
    "According to the given dataset we can see that the appearance of children affects on repaying a loan on time.\n",
    "In a situation without children, untimely loan repayment occurs in 7.5 percent of cases, while with the appearance of at least one child, this percentage rises to 9.2%.\n",
    "At the same time, the difference in the number of children does not significantly affect the indicator of timely payments.\n",
    "We combined 3 and more kids into one group, because of the inessential data."
   ]
  },
  {
   "cell_type": "markdown",
   "metadata": {},
   "source": [
    "- Is there a relation between marital status and repaying a loan on time? <a class=\"anchor\" id=\"relation_marital_status_repaying_loan\"></a>"
   ]
  },
  {
   "cell_type": "code",
   "execution_count": 15,
   "metadata": {},
   "outputs": [
    {
     "name": "stdout",
     "output_type": "stream",
     "text": [
      "family_status      debt\n",
      "civil partnership  0        3763\n",
      "                   1         388\n",
      "divorced           0        1110\n",
      "                   1          85\n",
      "married            0       11408\n",
      "                   1         931\n",
      "unmarried          0        2536\n",
      "                   1         274\n",
      "widow / widower    0         896\n",
      "                   1          63\n",
      "Name: debt, dtype: int64\n",
      "married debt ratio: 0.075\n",
      "civil partnership debt ratio: 0.093\n",
      "widow / widower debt ratio: 0.066\n",
      "divorced debt ratio: 0.071\n",
      "unmarried debt ratio: 0.098\n"
     ]
    }
   ],
   "source": [
    "print(data_credit_scoring.groupby('family_status')['debt'].value_counts())\n",
    "\n",
    "partnership_statuses = data_credit_scoring['family_status'].unique()\n",
    "\n",
    "for status in partnership_statuses:\n",
    "    status_partnership_with_debt = len(data_credit_scoring[(data_credit_scoring['family_status'] == status) & (data_credit_scoring['debt'] == 1)])\n",
    "    status_partnership_all = len(data_credit_scoring[data_credit_scoring['family_status'] == status])\n",
    "    status_partnership_debt_ratio = status_partnership_with_debt / status_partnership_all\n",
    "    print('{} debt ratio: {:.3f}'.format(status, status_partnership_debt_ratio))"
   ]
  },
  {
   "cell_type": "markdown",
   "metadata": {},
   "source": [
    "### Conclusion"
   ]
  },
  {
   "cell_type": "markdown",
   "metadata": {},
   "source": [
    "The lowest percentage of loan defaults in the widow / widower group.\n",
    "Average percentage of loan defaults by married and divorced\n",
    "Highest percentage of loan delinquencies by unmarried people and civil partnerships.\n",
    "\n",
    "This result may be due to the fact that, as a rule, unmarried people and in a civil partnerships are younger in age than other groups and, as a result, may have less work experience and income level to make payment by the loan on time."
   ]
  },
  {
   "cell_type": "markdown",
   "metadata": {},
   "source": [
    "- Is there a relation between income level and repaying a loan on time? <a class=\"anchor\" id=\"relation_income_level_repaying_loan\"></a>"
   ]
  },
  {
   "cell_type": "code",
   "execution_count": 16,
   "metadata": {},
   "outputs": [
    {
     "name": "stdout",
     "output_type": "stream",
     "text": [
      "income_level  debt\n",
      "average       0        5321\n",
      "              1         426\n",
      "high          0         162\n",
      "              1          10\n",
      "low           0       14230\n",
      "              1        1305\n",
      "Name: debt, dtype: int64\n",
      "average income level debt ratio: 0.074\n",
      "low income level debt ratio: 0.084\n",
      "high income level debt ratio: 0.058\n"
     ]
    }
   ],
   "source": [
    "print(data_credit_scoring.groupby('income_level')['debt'].value_counts())\n",
    "\n",
    "income_levels = data_credit_scoring['income_level'].unique()\n",
    "\n",
    "for level in income_levels:\n",
    "    income_level_with_debt = len(data_credit_scoring[(data_credit_scoring['income_level'] == level) & (data_credit_scoring['debt'] == 1)])\n",
    "    income_level_all = len(data_credit_scoring[data_credit_scoring['income_level'] == level])\n",
    "    income_level_debt_ratio = income_level_with_debt / income_level_all\n",
    "    print('{} income level debt ratio: {:.3f}'.format(level, income_level_debt_ratio))\n"
   ]
  },
  {
   "cell_type": "markdown",
   "metadata": {},
   "source": [
    "### Conclusion"
   ]
  },
  {
   "cell_type": "markdown",
   "metadata": {},
   "source": [
    "By distributing people by income levels and calculating the ratio of untimely refunded loans to the total number of loans by groups, we can conclude that the higher the income, the lower the percentage of delays in payments"
   ]
  },
  {
   "cell_type": "markdown",
   "metadata": {},
   "source": [
    "- How do different loan purposes affect on-time repayment of the loan? <a class=\"anchor\" id=\"purposes_repayment_loan\"></a>"
   ]
  },
  {
   "cell_type": "code",
   "execution_count": 17,
   "metadata": {},
   "outputs": [
    {
     "name": "stdout",
     "output_type": "stream",
     "text": [
      "purpose_simplified  debt\n",
      "car                 0        3903\n",
      "                    1         403\n",
      "education           0        3643\n",
      "                    1         370\n",
      "real estate         0       10029\n",
      "                    1         782\n",
      "wedding             0        2138\n",
      "                    1         186\n",
      "Name: debt, dtype: int64\n",
      "real estate purpose debt ratio: 0.072\n",
      "car purpose debt ratio: 0.094\n",
      "education purpose debt ratio: 0.092\n",
      "wedding purpose debt ratio: 0.080\n"
     ]
    }
   ],
   "source": [
    "print(data_credit_scoring.groupby('purpose_simplified')['debt'].value_counts())\n",
    "purposes = data_credit_scoring['purpose_simplified'].unique()\n",
    "\n",
    "for purpose in purposes:\n",
    "    purpose_with_debt = len(data_credit_scoring[(data_credit_scoring['purpose_simplified'] == purpose) & (data_credit_scoring['debt'] == 1)])\n",
    "    purpose_all = len(data_credit_scoring[data_credit_scoring['purpose_simplified'] == purpose])\n",
    "    purpose_debt_ratio = purpose_with_debt / purpose_all\n",
    "    print('{} purpose debt ratio: {:.3f}'.format(purpose, purpose_debt_ratio))"
   ]
  },
  {
   "cell_type": "markdown",
   "metadata": {},
   "source": [
    "### Conclusion"
   ]
  },
  {
   "cell_type": "markdown",
   "metadata": {},
   "source": [
    "According to the given datas if people take a loan for purchasing a car they have more delays in repayment in comparison with the other purposes of loan. And on the other hand when buying real estate, there are fewer delays in the payment of the loan"
   ]
  },
  {
   "cell_type": "markdown",
   "metadata": {},
   "source": [
    "### Step 4. General conclusion <a class=\"anchor\" id=\"fourth-step\"></a>"
   ]
  },
  {
   "cell_type": "markdown",
   "metadata": {},
   "source": [
    "According to the given dataset we can see that the appearance of children affects on repaying a loan on time, but at the same time the difference in the number of children does not significantly affect the indicator of timely payments.\n",
    "The lowest percentage of loan defaults in the widow / widower group, average percentage of loan defaults is stated by married and divorced group and highest percentage of loan delinquencies is observed by unmarried people and civil partnerships.\n",
    "We also noticed that the higher the income was, the lower the percentage of delays in payments was.\n",
    "As well as we observed, that car-purchasing loans were refunded worse than others. \n",
    "On the other hand we stated that real estate (mortgage) loans were repaid almost always on time."
   ]
  }
 ],
 "metadata": {
  "kernelspec": {
   "display_name": "Python 3",
   "language": "python",
   "name": "python3"
  },
  "language_info": {
   "codemirror_mode": {
    "name": "ipython",
    "version": 3
   },
   "file_extension": ".py",
   "mimetype": "text/x-python",
   "name": "python",
   "nbconvert_exporter": "python",
   "pygments_lexer": "ipython3",
   "version": "3.8.8"
  },
  "toc": {
   "base_numbering": 1,
   "nav_menu": {},
   "number_sections": true,
   "sideBar": true,
   "skip_h1_title": false,
   "title_cell": "Table of Contents",
   "title_sidebar": "Contents",
   "toc_cell": false,
   "toc_position": {},
   "toc_section_display": true,
   "toc_window_display": false
  }
 },
 "nbformat": 4,
 "nbformat_minor": 2
}
